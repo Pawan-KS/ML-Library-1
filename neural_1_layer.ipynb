{
  "nbformat": 4,
  "nbformat_minor": 0,
  "metadata": {
    "colab": {
      "name": "neural-1-layer.ipynb",
      "provenance": [],
      "collapsed_sections": [],
      "include_colab_link": true
    },
    "kernelspec": {
      "name": "python3",
      "display_name": "Python 3"
    }
  },
  "cells": [
    {
      "cell_type": "markdown",
      "metadata": {
        "id": "view-in-github",
        "colab_type": "text"
      },
      "source": [
        "<a href=\"https://colab.research.google.com/github/Pawan-Kumar-Sahu/ML-Library-1/blob/master/neural_1_layer.ipynb\" target=\"_parent\"><img src=\"https://colab.research.google.com/assets/colab-badge.svg\" alt=\"Open In Colab\"/></a>"
      ]
    },
    {
      "cell_type": "code",
      "metadata": {
        "id": "n3nT3ED-qjwF",
        "colab_type": "code",
        "colab": {}
      },
      "source": [
        "import numpy as np\n",
        "import pandas as pd\n",
        "import matplotlib.pyplot as plt\n",
        "import random\n",
        "import math\n",
        "%matplotlib inline"
      ],
      "execution_count": 0,
      "outputs": []
    },
    {
      "cell_type": "code",
      "metadata": {
        "id": "i9aX976QqxZq",
        "colab_type": "code",
        "colab": {
          "base_uri": "https://localhost:8080/",
          "height": 269
        },
        "outputId": "31c4fa82-0f69-4c3e-ab17-e1da95f4950b"
      },
      "source": [
        "d= pd.read_csv('mnist_train_small.csv',header=None)\n",
        "data=np.array(d)\n",
        "print (data)\n",
        "Y = data[:,0]\n",
        "print (Y)\n",
        "X = data[:,1:]\n",
        "print (X)"
      ],
      "execution_count": 3,
      "outputs": [
        {
          "output_type": "stream",
          "text": [
            "[[6 0 0 ... 0 0 0]\n",
            " [5 0 0 ... 0 0 0]\n",
            " [7 0 0 ... 0 0 0]\n",
            " ...\n",
            " [2 0 0 ... 0 0 0]\n",
            " [9 0 0 ... 0 0 0]\n",
            " [5 0 0 ... 0 0 0]]\n",
            "[6 5 7 ... 2 9 5]\n",
            "[[0 0 0 ... 0 0 0]\n",
            " [0 0 0 ... 0 0 0]\n",
            " [0 0 0 ... 0 0 0]\n",
            " ...\n",
            " [0 0 0 ... 0 0 0]\n",
            " [0 0 0 ... 0 0 0]\n",
            " [0 0 0 ... 0 0 0]]\n"
          ],
          "name": "stdout"
        }
      ]
    },
    {
      "cell_type": "code",
      "metadata": {
        "id": "ZMAu9SpIqytK",
        "colab_type": "code",
        "colab": {
          "base_uri": "https://localhost:8080/",
          "height": 298
        },
        "outputId": "e7d44d95-9af8-4676-b849-e8c5efdee266"
      },
      "source": [
        "class neural_short():\n",
        "  \n",
        "  def sigmoid(self,c):\n",
        "    return 1/(1+np.exp(-c))\n",
        "  \n",
        "  def for_prop(self):\n",
        "    self.a_2d=[]\n",
        "    a_0=list(self.x)\n",
        "    a_0.append(1)\n",
        "    a_0=np.array(a_0)\n",
        "    self.a_2d.append(a_0)\n",
        "    z_1=self.theta[0].dot(a_0)\n",
        "    a_1=list(self.sigmoid(z_1))\n",
        "    a_1.append(1)\n",
        "    a_1=np.array(a_1)\n",
        "    self.a_2d.append(a_1)\n",
        "    z_2=self.theta[1].dot(a_1)\n",
        "    a_2=self.sigmoid(z_2)\n",
        "    a_2=np.array(a_2)\n",
        "    self.a_2d.append(a_2)\n",
        "    self.a_2d=np.array(self.a_2d)\n",
        "  \n",
        "  def initialize(self):\n",
        "    self.theta=[]\n",
        "    self.units=int(input(\"no. of units\"))\n",
        "    t_0=np.zeros([self.units,self.n+1])\n",
        "    self.theta.append(t_0)\n",
        "    t_1=np.zeros([len(np.unique(self.y_all)),self.units+1])\n",
        "    self.theta.append(t_1)\n",
        "    self.theta=np.array(self.theta)\n",
        "    for i in range(len(self.theta)):\n",
        "      for j in range(len(self.theta[i])):\n",
        "        for k in range(len(self.theta[i][j])):\n",
        "            self.theta[i][j][k]=random.random()\n",
        "  \n",
        "  def backprop(self):\n",
        "    self.sigma=[]\n",
        "    s_1=self.a_2d[-1]-self.y\n",
        "    s_0=(self.theta[-1].T.dot(s_1))*self.a_2d[1]*(1-self.a_2d[1])\n",
        "    self.sigma.append(s_0)\n",
        "    self.sigma.append(s_1)\n",
        "    self.sigma=np.array(self.sigma)\n",
        "    #print(s_0.shape,s_1.shape,self.sigma.shape)\n",
        "\n",
        "  def y_det(self,yy):\n",
        "    for index,i in enumerate(np.unique(self.y_all)):\n",
        "      if yy==i:\n",
        "        yy=np.zeros(len(np.unique(self.y_all)))\n",
        "        yy[index]=1\n",
        "        return yy\n",
        "\n",
        "  def train(self,x,y,itr=500,lr=0.001):\n",
        "    self.x_all=x\n",
        "    self.y_all=y\n",
        "    self.m=self.x_all.shape[0]\n",
        "    self.n=self.x_all.shape[1]\n",
        "    self.itr=itr\n",
        "    self.lr=lr\n",
        "    self.initialize()\n",
        "    k=0\n",
        "    while k<self.itr:\n",
        "      delta=self.theta-self.theta\n",
        "      j=[]\n",
        "      for eg in range(self.m):\n",
        "        self.x=self.x_all[eg]\n",
        "        self.x=(self.x-np.mean(self.x))/(np.max(self.x)-np.min(self.x))\n",
        "        self.y=self.y_det(self.y_all[eg])\n",
        "        self.for_prop()\n",
        "        j.append(np.sum((self.y*np.log(self.a_2d[-1])) + ((1-self.y)*np.log(1-self.a_2d[-1]))))\n",
        "        self.backprop()\n",
        "        delta[0]=delta[0]+ (np.array([self.a_2d[0]])*np.array([self.sigma[0][:-1]]).T)\n",
        "        delta[1]=delta[1]+ (np.array([self.a_2d[1]])*np.array([self.sigma[1]]).T)\n",
        "        #print(self.y,self.a_2d[-1])\n",
        "      cj=-(np.sum(np.array(j)))/self.m\n",
        "      #print(cj)\n",
        "      delta=delta/self.m\n",
        "      self.theta=self.theta - (self.lr*delta)\n",
        "      plt.scatter(k+1,cj,color='red')\n",
        "      k=k+1\n",
        "    print(\"loss value is --\",cj)\n",
        "    plt.show()\n",
        "\n",
        "  def test(self,xt,yt):\n",
        "    self.yt=yt\n",
        "    print(self.yt)\n",
        "    self.pred=[]\n",
        "    for i in range(xt.shape[0]):\n",
        "      self.x=xt[i]\n",
        "      self.x=(self.x-np.mean(self.x))/(np.max(self.x)-np.min(self.x))\n",
        "      self.for_prop()\n",
        "      self.pred.append(np.unique(self.y_all)[np.argmax(self.a_2d[-1])])\n",
        "    self.pred=np.array(self.pred)\n",
        "    return self.pred\n",
        "  \n",
        "  def accuracy(self):\n",
        "    accu=self.yt-self.pred\n",
        "    print((np.count_nonzero(accu==0)/len(self.yt))*100)\n",
        "\n",
        "\n",
        "obj=neural_short()\n",
        "obj.train(X[:500,:],Y[:500],200,1)"
      ],
      "execution_count": 67,
      "outputs": [
        {
          "output_type": "stream",
          "text": [
            "no. of units5\n",
            "2.109695943635338\n"
          ],
          "name": "stdout"
        },
        {
          "output_type": "display_data",
          "data": {
            "image/png": "[encoded data removed]",
            "text/plain": [
              "<Figure size 432x288 with 1 Axes>"
            ]
          },
          "metadata": {
            "tags": []
          }
        }
      ]
    },
    {
      "cell_type": "code",
      "metadata": {
        "id": "Hl1QMaGxCDvt",
        "colab_type": "code",
        "colab": {
          "base_uri": "https://localhost:8080/",
          "height": 67
        },
        "outputId": "130d9489-fbd4-46c8-e1d7-a5114fb4ba91"
      },
      "source": [
        "print(obj.test(X,Y))\n",
        "obj.accuracy()"
      ],
      "execution_count": 71,
      "outputs": [
        {
          "output_type": "stream",
          "text": [
            "[6 5 7 ... 2 9 5]\n",
            "[4 2 0 ... 2 7 1]\n",
            "44.015\n"
          ],
          "name": "stdout"
        }
      ]
    },
    {
      "cell_type": "code",
      "metadata": {
        "id": "Gvqd0Dz8i9qF",
        "colab_type": "code",
        "colab": {
          "base_uri": "https://localhost:8080/",
          "height": 84
        },
        "outputId": "98a4ea15-0232-482b-b10f-0d27e80a36e1"
      },
      "source": [
        "d_n= pd.read_csv('sample_data/mnist_test.csv',header=None)\n",
        "data_n=np.array(d_n)\n",
        "Y_n = data_n[:,0]\n",
        "print (Y_n)\n",
        "X_n = data_n[:,1:]\n",
        "\n",
        "print(obj.test(X_n,Y_n))\n",
        "obj.accuracy()"
      ],
      "execution_count": 69,
      "outputs": [
        {
          "output_type": "stream",
          "text": [
            "[7 2 1 ... 4 5 6]\n",
            "[7 2 1 ... 4 5 6]\n",
            "[7 2 2 ... 4 6 6]\n",
            "43.75\n"
          ],
          "name": "stdout"
        }
      ]
    }
  ]
}