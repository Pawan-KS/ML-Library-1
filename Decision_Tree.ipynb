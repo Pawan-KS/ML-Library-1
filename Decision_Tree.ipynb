{
  "nbformat": 4,
  "nbformat_minor": 0,
  "metadata": {
    "colab": {
      "name": "Decision Tree.ipynb",
      "provenance": [],
      "collapsed_sections": [],
      "include_colab_link": true
    },
    "kernelspec": {
      "name": "python3",
      "display_name": "Python 3"
    },
    "accelerator": "GPU"
  },
  "cells": [
    {
      "cell_type": "markdown",
      "metadata": {
        "id": "view-in-github",
        "colab_type": "text"
      },
      "source": [
        "<a href=\"https://colab.research.google.com/github/Pawan-KS/ML-Library-1/blob/master/Decision_Tree.ipynb\" target=\"_parent\"><img src=\"https://colab.research.google.com/assets/colab-badge.svg\" alt=\"Open In Colab\"/></a>"
      ]
    },
    {
      "cell_type": "code",
      "metadata": {
        "id": "9HmISUbu4f1r",
        "colab_type": "code",
        "colab": {}
      },
      "source": [
        "import numpy as np\n",
        "import pandas as pd\n",
        "import matplotlib.pyplot as plt\n",
        "import random\n",
        "import math\n",
        "%matplotlib inline"
      ],
      "execution_count": 0,
      "outputs": []
    },
    {
      "cell_type": "code",
      "metadata": {
        "id": "66ATZA-V4lGA",
        "colab_type": "code",
        "outputId": "59053c49-d90a-4ff4-8490-f8d6d5498430",
        "colab": {
          "base_uri": "https://localhost:8080/",
          "height": 134
        }
      },
      "source": [
        "d= pd.read_csv('sample_data/mnist_train_small.csv',header=None)\n",
        "data=np.array(d)\n",
        "print(data)"
      ],
      "execution_count": 23,
      "outputs": [
        {
          "output_type": "stream",
          "text": [
            "[[6 0 0 ... 0 0 0]\n",
            " [5 0 0 ... 0 0 0]\n",
            " [7 0 0 ... 0 0 0]\n",
            " ...\n",
            " [2 0 0 ... 0 0 0]\n",
            " [9 0 0 ... 0 0 0]\n",
            " [5 0 0 ... 0 0 0]]\n"
          ],
          "name": "stdout"
        }
      ]
    },
    {
      "cell_type": "code",
      "metadata": {
        "id": "cVPNwISQf6p_",
        "colab_type": "code",
        "colab": {}
      },
      "source": [
        "def convert_data(data,concerned_class,threshold=5):\n",
        "  data[:,1:][data[:,1:]>=threshold]=1\n",
        "  data[:,0][data[:,0]!=concerned_class]=-1\n",
        "  data[:,0][data[:,0]==concerned_class]=0\n",
        "  data[:,0]+=1\n",
        "  return data"
      ],
      "execution_count": 0,
      "outputs": []
    },
    {
      "cell_type": "code",
      "metadata": {
        "id": "s-va8jzc4n-z",
        "colab_type": "code",
        "colab": {}
      },
      "source": [
        "class decision_tree():\n",
        "  def __init__(self,data):\n",
        "    self.comp_data=data\n",
        "    self.i=1\n",
        "\n",
        "  def calc_gini(self,data):\n",
        "    if data.size==0:\n",
        "      return 0\n",
        "    d=data[:,0]\n",
        "    p = np.count_nonzero(d==1)/len(d)\n",
        "    return (p*p)+((1-p)*(1-p))\n",
        "\n",
        "  def gini_split_val(self,data,col,split='False'):\n",
        "    d=data[:,col]\n",
        "    d1=[]\n",
        "    d2=[]\n",
        "    for i in range(data.shape[0]):\n",
        "      if d[i]==0:\n",
        "        d1.append(data[i,:])\n",
        "      elif d[i]==1:\n",
        "        d2.append(data[i,:])\n",
        "    d1=np.array(d1)\n",
        "    d2=np.array(d2)\n",
        "    gini1=self.calc_gini(d1)\n",
        "    gini2=self.calc_gini(d2)\n",
        "    if split=='True':\n",
        "      if d1.size==0:\n",
        "        return d1,np.delete(d2,[col],1)\n",
        "      elif d2.size==0:\n",
        "        return np.delete(d1,[col],1),d2\n",
        "      else:\n",
        "        return np.delete(d1,[col],1),np.delete(d2,[col],1)\n",
        "    if gini1==0:\n",
        "      return gini2\n",
        "    elif gini2==0:\n",
        "      return gini1\n",
        "    #check if both gini are not 0\n",
        "    else :\n",
        "      return ((d1.shape[0]/len(d))*gini1) + ((d2.shape[0]/len(d))*gini2)\n",
        "    \n",
        "  def choosing_col(self,data):\n",
        "    gini_vals=[]\n",
        "    for i in range(data.shape[1]-1):\n",
        "      gini_vals.append(self.gini_split_val(data,i+1))\n",
        "    return np.argmax(np.array(gini_vals))+1\n",
        "  \n",
        "  def build_tree(self,dataset,parent_class='None'):\n",
        "    #print(self.i)\n",
        "    self.i+=1\n",
        "    #print(dataset)\n",
        "    if dataset.size==0:\n",
        "      return np.unique(self.comp_data[:,0])[np.argmax(np.unique(self.comp_data[:,0],return_counts=True)[1])]\n",
        "    elif len(np.unique(dataset[:,0]))<=1:\n",
        "      return dataset[0][0]\n",
        "    elif dataset.shape==(dataset.shape[0],1):\n",
        "      return parent_class\n",
        "    else:\n",
        "      parent_class= np.unique(dataset[:,0])[np.argmax(np.unique(dataset[:,0],return_counts=True)[1])]\n",
        "      attr_no = self.choosing_col(dataset)\n",
        "      tree = {attr_no:{}}\n",
        "      #for value in np.unique(dataset[attr_no]):\n",
        "      for value in range(2):\n",
        "        t = self.gini_split_val(dataset,attr_no,split='True')\n",
        "        subtree= self.build_tree(t[value],parent_class)\n",
        "        tree[attr_no][value]=subtree\n",
        "      return tree\n",
        "  \n",
        "  def prediction(self,query,tree,default_val='None'):\n",
        "    if default_val=='None':\n",
        "      default_val=np.unique(self.comp_data[:,0])[np.argmax(np.unique(self.comp_data[:,0],return_counts=True)[1])]\n",
        "    for i in list(query.keys()):\n",
        "      if i in list(tree.keys()):\n",
        "        try:\n",
        "          out= tree[i][query[i]]\n",
        "        except:\n",
        "          return default_val\n",
        "        out = tree[i][query[i]]\n",
        "        if isinstance(out,dict):\n",
        "          return self.prediction(query,out)\n",
        "        else:\n",
        "          return out\n",
        "  \n",
        "  def test(self,data,tree):\n",
        "    test_data=data[:,1:]\n",
        "    y=data[:,0]\n",
        "    count=0\n",
        "    for i in range(data.shape[0]):\n",
        "      test_query=dict(enumerate(test_data[i,:]))\n",
        "      pred=self.prediction(test_query,tree)\n",
        "      if pred==y[i]:\n",
        "        count+=1\n",
        "    print((count/len(y))*100)\n",
        "\n",
        "\n",
        "\n",
        "data= convert_data(data,0,10)\n",
        "obj=decision_tree(data[:100,:])\n",
        "tree= obj.build_tree(data[:100,:])    "
      ],
      "execution_count": 0,
      "outputs": []
    },
    {
      "cell_type": "code",
      "metadata": {
        "id": "VOwkyCLuFDlE",
        "colab_type": "code",
        "colab": {
          "base_uri": "https://localhost:8080/",
          "height": 34
        },
        "outputId": "65ea1977-8655-4de5-bfd5-7a3d339b7f23"
      },
      "source": [
        "obj.test(data,tree)"
      ],
      "execution_count": 25,
      "outputs": [
        {
          "output_type": "stream",
          "text": [
            "94.22500000000001\n"
          ],
          "name": "stdout"
        }
      ]
    },
    {
      "cell_type": "code",
      "metadata": {
        "id": "KG_kD6BBHe5t",
        "colab_type": "code",
        "colab": {
          "base_uri": "https://localhost:8080/",
          "height": 34
        },
        "outputId": "3dab9706-907b-463d-e2f9-9f33a599d448"
      },
      "source": [
        "d_t= pd.read_csv('sample_data/mnist_test.csv',header=None)\n",
        "data_t=np.array(d_t)\n",
        "\n",
        "data_t=convert_data(data_t,0,10)\n",
        "obj.test(data_t,tree)"
      ],
      "execution_count": 30,
      "outputs": [
        {
          "output_type": "stream",
          "text": [
            "94.75\n"
          ],
          "name": "stdout"
        }
      ]
    },
    {
      "cell_type": "code",
      "metadata": {
        "id": "r9psYF2jv3rJ",
        "colab_type": "code",
        "outputId": "dfb3587e-2b1a-4259-adb2-392ffad04d47",
        "colab": {
          "base_uri": "https://localhost:8080/",
          "height": 34
        }
      },
      "source": [
        "print(tree)"
      ],
      "execution_count": 28,
      "outputs": [
        {
          "output_type": "stream",
          "text": [
            "{436: {0: {353: {0: {440: {0: {326: {0: 0, 1: 1}}, 1: 1}}, 1: 0}}, 1: 0}}\n"
          ],
          "name": "stdout"
        }
      ]
    }
  ]
}