{
  "nbformat": 4,
  "nbformat_minor": 0,
  "metadata": {
    "colab": {
      "name": "Decision Tree Final.ipynb",
      "provenance": [],
      "collapsed_sections": [],
      "authorship_tag": "ABX9TyOYw+Tr+UE5iqmfkRNpKQOh",
      "include_colab_link": true
    },
    "kernelspec": {
      "name": "python3",
      "display_name": "Python 3"
    }
  },
  "cells": [
    {
      "cell_type": "markdown",
      "metadata": {
        "id": "view-in-github",
        "colab_type": "text"
      },
      "source": [
        "<a href=\"https://colab.research.google.com/github/Pawan-KS/ML-Library-1/blob/master/Decision_Tree_Final.ipynb\" target=\"_parent\"><img src=\"https://colab.research.google.com/assets/colab-badge.svg\" alt=\"Open In Colab\"/></a>"
      ]
    },
    {
      "cell_type": "code",
      "metadata": {
        "id": "CQ8aim7ty8Ye",
        "colab_type": "code",
        "colab": {}
      },
      "source": [
        "import numpy as np\n",
        "import pandas as pd\n",
        "import matplotlib.pyplot as plt\n",
        "import random\n",
        "import math\n",
        "%matplotlib inline"
      ],
      "execution_count": 0,
      "outputs": []
    },
    {
      "cell_type": "code",
      "metadata": {
        "id": "GA7MkQiIy_El",
        "colab_type": "code",
        "colab": {}
      },
      "source": [
        "from pks_ml_lib import convert_data\n",
        "from pks_ml_lib import decision_tree"
      ],
      "execution_count": 0,
      "outputs": []
    },
    {
      "cell_type": "code",
      "metadata": {
        "id": "fMYkst2i0axE",
        "colab_type": "code",
        "colab": {}
      },
      "source": [
        "d_t= pd.read_csv('sample_data/mnist_test.csv',header=None)\n",
        "data_t=np.array(d_t)"
      ],
      "execution_count": 0,
      "outputs": []
    },
    {
      "cell_type": "code",
      "metadata": {
        "id": "a6RSJDqgzkQl",
        "colab_type": "code",
        "colab": {
          "base_uri": "https://localhost:8080/",
          "height": 134
        },
        "outputId": "bee6ef77-eec2-42ca-8577-db30b6d39917"
      },
      "source": [
        "d= pd.read_csv('sample_data/mnist_train_small.csv',header=None)\n",
        "data=np.array(d)\n",
        "print(data)"
      ],
      "execution_count": 13,
      "outputs": [
        {
          "output_type": "stream",
          "text": [
            "[[6 0 0 ... 0 0 0]\n",
            " [5 0 0 ... 0 0 0]\n",
            " [7 0 0 ... 0 0 0]\n",
            " ...\n",
            " [2 0 0 ... 0 0 0]\n",
            " [9 0 0 ... 0 0 0]\n",
            " [5 0 0 ... 0 0 0]]\n"
          ],
          "name": "stdout"
        }
      ]
    },
    {
      "cell_type": "code",
      "metadata": {
        "id": "9BP4eKBAzpoj",
        "colab_type": "code",
        "colab": {}
      },
      "source": [
        "data= convert_data(data,concerned_class=0,threshold=10)   # training and building tree\n",
        "obj=decision_tree(data[:100,:])\n",
        "tree= obj.build_tree(data[:100,:])    "
      ],
      "execution_count": 0,
      "outputs": []
    },
    {
      "cell_type": "code",
      "metadata": {
        "id": "Qm1kEWgU0CM5",
        "colab_type": "code",
        "colab": {
          "base_uri": "https://localhost:8080/",
          "height": 34
        },
        "outputId": "0d9a15ba-fc4d-48a2-ed24-234a67a75129"
      },
      "source": [
        "print(tree)                                             # printing tree"
      ],
      "execution_count": 18,
      "outputs": [
        {
          "output_type": "stream",
          "text": [
            "{436: {0: {353: {0: {440: {0: {326: {0: 1, 1: 0}}, 1: 0}}, 1: 1}}, 1: 1}}\n"
          ],
          "name": "stdout"
        }
      ]
    },
    {
      "cell_type": "code",
      "metadata": {
        "id": "1EqEMr1R0UiC",
        "colab_type": "code",
        "colab": {
          "base_uri": "https://localhost:8080/",
          "height": 34
        },
        "outputId": "4afafa08-253f-43eb-a6b7-75040414d53b"
      },
      "source": [
        "data_t=convert_data(data_t,concerned_class=0,threshold=10)                        # accuracy of prediction\n",
        "obj.test(data_t,tree)"
      ],
      "execution_count": 19,
      "outputs": [
        {
          "output_type": "stream",
          "text": [
            "94.75\n"
          ],
          "name": "stdout"
        }
      ]
    }
  ]
}