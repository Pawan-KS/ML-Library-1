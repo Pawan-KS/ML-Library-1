{
  "nbformat": 4,
  "nbformat_minor": 0,
  "metadata": {
    "colab": {
      "name": "Nueral N Layer Final.ipynb",
      "provenance": [],
      "collapsed_sections": [],
      "authorship_tag": "ABX9TyNGKfnitH36FBxFUsLsx/w3",
      "include_colab_link": true
    },
    "kernelspec": {
      "name": "python3",
      "display_name": "Python 3"
    }
  },
  "cells": [
    {
      "cell_type": "markdown",
      "metadata": {
        "id": "view-in-github",
        "colab_type": "text"
      },
      "source": [
        "<a href=\"https://colab.research.google.com/github/Pawan-KS/ML-Library-1/blob/master/Nueral_N_Layer_Final.ipynb\" target=\"_parent\"><img src=\"https://colab.research.google.com/assets/colab-badge.svg\" alt=\"Open In Colab\"/></a>"
      ]
    },
    {
      "cell_type": "code",
      "metadata": {
        "id": "7bBYh4gBtF0W",
        "colab_type": "code",
        "colab": {}
      },
      "source": [
        "import numpy as np\n",
        "import pandas as pd\n",
        "import matplotlib.pyplot as plt\n",
        "import random\n",
        "import math\n",
        "%matplotlib inline"
      ],
      "execution_count": 0,
      "outputs": []
    },
    {
      "cell_type": "code",
      "metadata": {
        "id": "2f5cmhi0tnQZ",
        "colab_type": "code",
        "colab": {}
      },
      "source": [
        "from pks_ml_lib import neural_n_layer"
      ],
      "execution_count": 0,
      "outputs": []
    },
    {
      "cell_type": "code",
      "metadata": {
        "id": "0AwYwvTPt6vJ",
        "colab_type": "code",
        "colab": {}
      },
      "source": [
        "obj=neural_n_layer()   # object of class defined"
      ],
      "execution_count": 0,
      "outputs": []
    },
    {
      "cell_type": "code",
      "metadata": {
        "id": "EWaGVV0ZuWmQ",
        "colab_type": "code",
        "colab": {
          "base_uri": "https://localhost:8080/",
          "height": 269
        },
        "outputId": "dd68e67e-2e54-46ec-a1b5-2e00c871e21b"
      },
      "source": [
        "d= pd.read_csv('sample_data/mnist_train_small.csv',header=None)\n",
        "data=np.array(d)\n",
        "print (data)\n",
        "Y = data[:,0]\n",
        "print (Y)\n",
        "X = data[:,1:]\n",
        "print (X)"
      ],
      "execution_count": 6,
      "outputs": [
        {
          "output_type": "stream",
          "text": [
            "[[6 0 0 ... 0 0 0]\n",
            " [5 0 0 ... 0 0 0]\n",
            " [7 0 0 ... 0 0 0]\n",
            " ...\n",
            " [2 0 0 ... 0 0 0]\n",
            " [9 0 0 ... 0 0 0]\n",
            " [5 0 0 ... 0 0 0]]\n",
            "[6 5 7 ... 2 9 5]\n",
            "[[0 0 0 ... 0 0 0]\n",
            " [0 0 0 ... 0 0 0]\n",
            " [0 0 0 ... 0 0 0]\n",
            " ...\n",
            " [0 0 0 ... 0 0 0]\n",
            " [0 0 0 ... 0 0 0]\n",
            " [0 0 0 ... 0 0 0]]\n"
          ],
          "name": "stdout"
        }
      ]
    },
    {
      "cell_type": "code",
      "metadata": {
        "id": "Df9Jr8FSuRs5",
        "colab_type": "code",
        "colab": {
          "base_uri": "https://localhost:8080/",
          "height": 252
        },
        "outputId": "ea32bd3b-b801-4049-a940-56b7ecb7fb39"
      },
      "source": [
        "train_data,test_data=obj.train_test_split(data,0.8,randomize='True')   # this function splits your dataset into two\n",
        "print(train_data,train_data.shape)                                     # you can specify ratio of split\n",
        "print(test_data,test_data.shape)                                       # and whether you want to randomize the order before split"
      ],
      "execution_count": 7,
      "outputs": [
        {
          "output_type": "stream",
          "text": [
            "[[8 0 0 ... 0 0 0]\n",
            " [1 0 0 ... 0 0 0]\n",
            " [5 0 0 ... 0 0 0]\n",
            " ...\n",
            " [2 0 0 ... 0 0 0]\n",
            " [2 0 0 ... 0 0 0]\n",
            " [9 0 0 ... 0 0 0]] (16000, 785)\n",
            "[[3 0 0 ... 0 0 0]\n",
            " [6 0 0 ... 0 0 0]\n",
            " [5 0 0 ... 0 0 0]\n",
            " ...\n",
            " [7 0 0 ... 0 0 0]\n",
            " [7 0 0 ... 0 0 0]\n",
            " [5 0 0 ... 0 0 0]] (4000, 785)\n"
          ],
          "name": "stdout"
        }
      ]
    },
    {
      "cell_type": "code",
      "metadata": {
        "id": "7-JUVW_UuGNv",
        "colab_type": "code",
        "colab": {
          "base_uri": "https://localhost:8080/",
          "height": 118
        },
        "outputId": "dc62e693-11e6-4a75-c731-7b37427f2068"
      },
      "source": [
        "obj.train(X[:200,:],Y[:200],1000,1)"
      ],
      "execution_count": 22,
      "outputs": [
        {
          "output_type": "stream",
          "text": [
            "no. of hidden layers --2\n",
            "for hidden layer 1\n",
            " tell no. of nodes --5\n",
            "for hidden layer 2\n",
            " tell no. of nodes --6\n",
            "loss value is -- 0.4037816705148679\n"
          ],
          "name": "stdout"
        }
      ]
    },
    {
      "cell_type": "code",
      "metadata": {
        "id": "guh-s5n9uyd4",
        "colab_type": "code",
        "colab": {
          "base_uri": "https://localhost:8080/",
          "height": 295
        },
        "outputId": "96d54152-dd2d-4bd6-e91a-2eeef6b84ce7"
      },
      "source": [
        "obj.learn_curve(show='True')                     "
      ],
      "execution_count": 23,
      "outputs": [
        {
          "output_type": "display_data",
          "data": {
            "image/png": "[encoded data removed]",
            "text/plain": [
              "<Figure size 432x288 with 1 Axes>"
            ]
          },
          "metadata": {
            "tags": []
          }
        }
      ]
    },
    {
      "cell_type": "code",
      "metadata": {
        "id": "EgLctQTju497",
        "colab_type": "code",
        "colab": {
          "base_uri": "https://localhost:8080/",
          "height": 34
        },
        "outputId": "a1dfb670-6319-4061-904f-f1e95b359b3d"
      },
      "source": [
        "d_n= pd.read_csv('sample_data/mnist_test.csv',header=None)\n",
        "data_n=np.array(d_n)\n",
        "Y_n = data_n[:,0]\n",
        "X_n = data_n[:,1:]\n",
        "\n",
        "pred_array = obj.test(X_n,Y_n)\n",
        "obj.accuracy()"
      ],
      "execution_count": 24,
      "outputs": [
        {
          "output_type": "stream",
          "text": [
            "accuracy is -- 62.28\n"
          ],
          "name": "stdout"
        }
      ]
    },
    {
      "cell_type": "code",
      "metadata": {
        "id": "Qnw-rue0vOk_",
        "colab_type": "code",
        "colab": {}
      },
      "source": [
        "from sklearn.neural_network import MLPClassifier\n",
        "clf = MLPClassifier(solver='lbfgs', alpha=1.5,hidden_layer_sizes=(5,6), random_state=1,activation='logistic')\n",
        "clf.fit(X[:200,:],Y[:200])"
      ],
      "execution_count": 0,
      "outputs": []
    },
    {
      "cell_type": "code",
      "metadata": {
        "id": "DIOTAPPCvPwd",
        "colab_type": "code",
        "colab": {
          "base_uri": "https://localhost:8080/",
          "height": 34
        },
        "outputId": "10bf0f5e-cdf0-45df-dd80-891af9ac28c7"
      },
      "source": [
        "clf.score(X_n,Y_n)                # sklearn accuracy "
      ],
      "execution_count": 28,
      "outputs": [
        {
          "output_type": "execute_result",
          "data": {
            "text/plain": [
              "0.3094"
            ]
          },
          "metadata": {
            "tags": []
          },
          "execution_count": 28
        }
      ]
    }
  ]
}