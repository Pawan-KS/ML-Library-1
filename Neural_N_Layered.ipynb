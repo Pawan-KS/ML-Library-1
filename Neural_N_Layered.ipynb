{
  "nbformat": 4,
  "nbformat_minor": 0,
  "metadata": {
    "colab": {
      "name": "Neural-N-Layered.ipynb",
      "provenance": [],
      "collapsed_sections": [],
      "include_colab_link": true
    },
    "kernelspec": {
      "name": "python3",
      "display_name": "Python 3"
    }
  },
  "cells": [
    {
      "cell_type": "markdown",
      "metadata": {
        "id": "view-in-github",
        "colab_type": "text"
      },
      "source": [
        "<a href=\"https://colab.research.google.com/github/Pawan-Kumar-Sahu/ML-Library-1/blob/master/Neural_N_Layered.ipynb\" target=\"_parent\"><img src=\"https://colab.research.google.com/assets/colab-badge.svg\" alt=\"Open In Colab\"/></a>"
      ]
    },
    {
      "cell_type": "code",
      "metadata": {
        "id": "btHfdEisNDAY",
        "colab_type": "code",
        "colab": {}
      },
      "source": [
        "import numpy as np\n",
        "import pandas as pd\n",
        "import matplotlib.pyplot as plt\n",
        "import random\n",
        "import math\n",
        "%matplotlib inline"
      ],
      "execution_count": 0,
      "outputs": []
    },
    {
      "cell_type": "code",
      "metadata": {
        "id": "Ju-fXyihoYG2",
        "colab_type": "code",
        "outputId": "65cba341-5b10-4e56-a64d-cb4df421e6f5",
        "colab": {
          "base_uri": "https://localhost:8080/",
          "height": 269
        }
      },
      "source": [
        "d= pd.read_csv('mnist_train_small.csv',header=None)\n",
        "data=np.array(d)\n",
        "print (data)\n",
        "Y = data[:,0]\n",
        "print (Y)\n",
        "X = data[:,1:]\n",
        "print (X)"
      ],
      "execution_count": 0,
      "outputs": [
        {
          "output_type": "stream",
          "text": [
            "[[6 0 0 ... 0 0 0]\n",
            " [5 0 0 ... 0 0 0]\n",
            " [7 0 0 ... 0 0 0]\n",
            " ...\n",
            " [2 0 0 ... 0 0 0]\n",
            " [9 0 0 ... 0 0 0]\n",
            " [5 0 0 ... 0 0 0]]\n",
            "[6 5 7 ... 2 9 5]\n",
            "[[0 0 0 ... 0 0 0]\n",
            " [0 0 0 ... 0 0 0]\n",
            " [0 0 0 ... 0 0 0]\n",
            " ...\n",
            " [0 0 0 ... 0 0 0]\n",
            " [0 0 0 ... 0 0 0]\n",
            " [0 0 0 ... 0 0 0]]\n"
          ],
          "name": "stdout"
        }
      ]
    },
    {
      "cell_type": "code",
      "metadata": {
        "id": "dhc5WWYhlL-z",
        "colab_type": "code",
        "outputId": "c30361ff-194a-4ff0-d27f-30f7c2ad6f59",
        "colab": {
          "base_uri": "https://localhost:8080/",
          "height": 67
        }
      },
      "source": [
        "class neural():\n",
        "  def sigmoid(self,c):\n",
        "    return 1/(1+np.exp(-c))\n",
        "  \n",
        "  def create_a(self,ar,i):\n",
        "    z=self.theta[i].dot(ar)\n",
        "    z=np.array(self.sigmoid(z))\n",
        "    if i!=self.hl:\n",
        "      z=np.append(z,1)\n",
        "    return z\n",
        "  \n",
        "  def for_prop(self):\n",
        "    self.a_2d=[]\n",
        "    self.a_2d.append(self.x)\n",
        "    for i in range(self.hl+1):\n",
        "      self.a_2d.append(self.create_a(np.array(self.a_2d)[i],i))\n",
        "\n",
        "  def initialize(self):\n",
        "    self.hl=int(input(\"no. of hidden layers\"))\n",
        "    self.n_hl=np.array([])\n",
        "    self.theta=[]\n",
        "    for i in range(self.hl):\n",
        "      print(\"for hidden layer\",i+1)\n",
        "      self.n_hl=np.append(self.n_hl,int(input(\" tell no. of nodes\")))\n",
        "      if i==0:\n",
        "        self.theta.append(np.zeros((int(self.n_hl[i]),int(self.n))))\n",
        "      if i!=0:\n",
        "        self.theta.append(np.zeros((int(self.n_hl[i]),int(self.n_hl[i-1]+1))))\n",
        "    self.theta.append(np.zeros((len(np.unique(self.y_all)),int(self.n_hl[-1]+1))))\n",
        "    self.theta=np.array(self.theta)\n",
        "\n",
        "  def backprop(self):\n",
        "    sigma=[]\n",
        "    sigma.append(self.a_2d[-1]-self.y)\n",
        "    for i in range(self.hl):\n",
        "      sigma.append(self.theta[-i-1].T.dot(sigma[i])*self.a_2d[-i-2]*(1-self.a_2d[-i-2]))\n",
        "      #sigma=np.array(sigma)\n",
        "    sigma=np.flipud(np.array(sigma))\n",
        "    return sigma\n",
        "  \n",
        "  def y_det(self,yy):\n",
        "    for index,i in enumerate(np.unique(self.y_all)):\n",
        "      if yy==i:\n",
        "        yy=np.zeros(len(np.unique(self.y_all)))\n",
        "        yy[index]=1\n",
        "        return yy\n",
        "  \n",
        "  def accuracy(self):\n",
        "    accu=self.yt-self.pred\n",
        "    print((np.count_nonzero(accu==0)/len(self.yt))*100)\n",
        "\n",
        "  def train(self,x,y,itr=50,lr=0.00001):\n",
        "    self.x_all=x\n",
        "    self.y_all=y\n",
        "    self.n=self.x_all.shape[1]\n",
        "    self.m=self.x_all.shape[0]\n",
        "    self.itr=itr\n",
        "    self.lr=lr\n",
        "    self.initialize()\n",
        "    ref=self.theta.copy()\n",
        "    k=0\n",
        "    while k<self.itr+1:  \n",
        "      self.delta=ref.copy()\n",
        "      for i in range(self.m):\n",
        "        self.x=self.x_all[i].copy()\n",
        "        self.y=self.y_det(self.y_all[i].copy())\n",
        "        self.for_prop()\n",
        "        s=self.backprop()\n",
        "        d=[]\n",
        "        for l in range(self.hl+1):\n",
        "          if l!=self.hl:\n",
        "            a_s=np.array([self.a_2d[l]])*np.array([s[l][1:]]).T\n",
        "          if l==self.hl:\n",
        "            a_s=np.array([self.a_2d[l]])*np.array([s[l]]).T\n",
        "          d.append(a_s)\n",
        "        d=np.array(d)\n",
        "        self.delta=self.delta + d\n",
        "      self.delta=(1/self.m)*self.delta\n",
        "      self.theta=self.theta-self.lr*self.delta\n",
        "      k=k+1\n",
        "    \n",
        "  def test(self,xt,yt):\n",
        "    self.yt=yt\n",
        "    self.pred=np.array([])\n",
        "    for i in range(xt.shape[0]):\n",
        "      self.x=xt[i]\n",
        "      self.for_prop()\n",
        "      self.pred=np.append(self.pred,np.unique(self.y_all)[np.argmax(self.a_2d[-1])])\n",
        "      print(self.a_2d[-1])\n",
        "    return self.pred\n",
        "\n",
        " \n",
        "\n",
        "obj=neural()\n",
        "obj.train(X[2:4,:],Y[2:4],50,0.00001)"
      ],
      "execution_count": 0,
      "outputs": [
        {
          "output_type": "stream",
          "text": [
            "no. of hidden layers1\n",
            "for hidden layer 1\n",
            " tell no. of nodes3\n"
          ],
          "name": "stdout"
        }
      ]
    },
    {
      "cell_type": "code",
      "metadata": {
        "id": "3qLb7EXFp57h",
        "colab_type": "code",
        "outputId": "eb8a6865-676d-4a8f-daf6-90be161e26fe",
        "colab": {
          "base_uri": "https://localhost:8080/",
          "height": 84
        }
      },
      "source": [
        "print(obj.test(X[2:4,:],Y[2:4]))\n",
        "obj.accuracy()"
      ],
      "execution_count": 0,
      "outputs": [
        {
          "output_type": "stream",
          "text": [
            "[0.5 0.5]\n",
            "[0.5 0.5]\n",
            "[7. 7.]\n",
            "50.0\n"
          ],
          "name": "stdout"
        }
      ]
    },
    {
      "cell_type": "code",
      "metadata": {
        "id": "pioLVxwIl76P",
        "colab_type": "code",
        "colab": {}
      },
      "source": [
        "d_n= pd.read_csv('mnist_test.csv',header=None)\n",
        "data_n=np.array(d_n)\n",
        "Y_n = data_n[:10,0]\n",
        "print (Y_n)\n",
        "X_n = data_n[:10,1:]\n",
        "\n",
        "obj2=neural()\n",
        "print(obj2.test(X_n,Y_n))\n",
        "obj2.accuracy()"
      ],
      "execution_count": 0,
      "outputs": []
    }
  ]
}