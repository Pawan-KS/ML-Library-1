{
  "nbformat": 4,
  "nbformat_minor": 0,
  "metadata": {
    "colab": {
      "name": "K-Means.ipynb",
      "provenance": [],
      "collapsed_sections": [],
      "include_colab_link": true
    },
    "kernelspec": {
      "name": "python3",
      "display_name": "Python 3"
    }
  },
  "cells": [
    {
      "cell_type": "markdown",
      "metadata": {
        "id": "view-in-github",
        "colab_type": "text"
      },
      "source": [
        "<a href=\"https://colab.research.google.com/github/Pawan-Kumar-Sahu/ML-Library-1/blob/master/K_Means.ipynb\" target=\"_parent\"><img src=\"https://colab.research.google.com/assets/colab-badge.svg\" alt=\"Open In Colab\"/></a>"
      ]
    },
    {
      "cell_type": "code",
      "metadata": {
        "id": "L8bdbzcDVQk6",
        "colab_type": "code",
        "colab": {}
      },
      "source": [
        "import numpy as np\n",
        "import pandas as pd\n",
        "import matplotlib.pyplot as plt\n",
        "import random\n",
        "import math\n",
        "%matplotlib inline"
      ],
      "execution_count": 0,
      "outputs": []
    },
    {
      "cell_type": "code",
      "metadata": {
        "id": "CoViyo1qWaix",
        "colab_type": "code",
        "outputId": "4c223d37-cb20-4849-a992-cb26d9ed36fb",
        "colab": {
          "base_uri": "https://localhost:8080/",
          "height": 269
        }
      },
      "source": [
        "d= pd.read_csv('sample_data/mnist_train_small.csv',header=None)\n",
        "data=np.array(d)\n",
        "print (data)\n",
        "Y = data[:,0]\n",
        "print (Y)\n",
        "X = data[:,1:]\n",
        "print (X)"
      ],
      "execution_count": 2,
      "outputs": [
        {
          "output_type": "stream",
          "text": [
            "[[6 0 0 ... 0 0 0]\n",
            " [5 0 0 ... 0 0 0]\n",
            " [7 0 0 ... 0 0 0]\n",
            " ...\n",
            " [2 0 0 ... 0 0 0]\n",
            " [9 0 0 ... 0 0 0]\n",
            " [5 0 0 ... 0 0 0]]\n",
            "[6 5 7 ... 2 9 5]\n",
            "[[0 0 0 ... 0 0 0]\n",
            " [0 0 0 ... 0 0 0]\n",
            " [0 0 0 ... 0 0 0]\n",
            " ...\n",
            " [0 0 0 ... 0 0 0]\n",
            " [0 0 0 ... 0 0 0]\n",
            " [0 0 0 ... 0 0 0]]\n"
          ],
          "name": "stdout"
        }
      ]
    },
    {
      "cell_type": "code",
      "metadata": {
        "id": "o9Ugaba6Wasy",
        "colab_type": "code",
        "outputId": "f9d9b7a2-fd1f-443b-b1c6-e2b063579764",
        "colab": {
          "base_uri": "https://localhost:8080/",
          "height": 101
        }
      },
      "source": [
        "class k_means():\n",
        "  def initialize(self):\n",
        "    self.cent_index=np.zeros(self.k)\n",
        "    self.cent_x=[]\n",
        "    self.cent_y=[]\n",
        "    for i in range(self.k):\n",
        "      self.cent_index[i]=random.randint(0,self.m-1)\n",
        "      self.cent_x.append(self.x[int(self.cent_index[i])])\n",
        "      self.cent_y.append(self.y[int(self.cent_index[i])])\n",
        "    self.cent_x=np.array(self.cent_x)\n",
        "    self.cent_y=np.array(self.cent_y)\n",
        "  \n",
        "  def distance(self,xc):\n",
        "    dist=np.sqrt(np.sum(pow(self.cent_x-xc,2),axis=1))\n",
        "    cent_no=np.argmin(dist)\n",
        "    label=self.cent_y[cent_no]\n",
        "    return label,cent_no\n",
        "\n",
        "  def train(self,x,y,itr,k):\n",
        "    self.x=x\n",
        "    self.y=y\n",
        "    self.itr=itr\n",
        "    self.k=k\n",
        "    self.m=self.x.shape[0]\n",
        "    self.n=self.x.shape[1]\n",
        "    t=0\n",
        "    self.initialize()\n",
        "    while t <self.itr:\n",
        "      self.label_array=[]\n",
        "      centroid_list=[]\n",
        "      for j in range(self.k):\n",
        "        centroid_list.append(np.array([]))\n",
        "      centroid_list=np.array(centroid_list)\n",
        "      for i in range(self.m):\n",
        "        l,c=self.distance(self.x[i])\n",
        "        centroid_list[c]=np.append(centroid_list[c],i)\n",
        "        self.label_array.append(l)\n",
        "      for i in range(self.k):\n",
        "        d=[]\n",
        "        for j in centroid_list[i]:\n",
        "          d.append(self.x[j])\n",
        "        d=np.array(d)\n",
        "        self.cent_x[i]=np.mean(d,axis=0)\n",
        "      t=t+1\n",
        "    print((np.count_nonzero((np.array(self.label_array)-self.y)==0)/len(self.y))*100)\n",
        "  \n",
        "  def accuracy(self):\n",
        "    print((np.count_nonzero((self.yt-self.pred)==0)/len(self.yt))*100)\n",
        "\n",
        "  def test(self,xt,yt):\n",
        "    self.yt=yt\n",
        "    self.pred=[]\n",
        "    for i in range(xt.shape[0]):\n",
        "       l,c=self.distance(xt[i])\n",
        "       self.pred.append(l)\n",
        "    return np.array(self.pred)\n",
        "\n",
        "\n",
        "obj=k_means()\n",
        "obj.train(X,Y,60,10)"
      ],
      "execution_count": 20,
      "outputs": [
        {
          "output_type": "stream",
          "text": [
            "/usr/local/lib/python3.6/dist-packages/numpy/core/fromnumeric.py:3257: RuntimeWarning: Mean of empty slice.\n",
            "  out=out, **kwargs)\n",
            "/usr/local/lib/python3.6/dist-packages/numpy/core/_methods.py:161: RuntimeWarning: invalid value encountered in double_scalars\n",
            "  ret = ret.dtype.type(ret / rcount)\n"
          ],
          "name": "stderr"
        },
        {
          "output_type": "stream",
          "text": [
            "11.215\n"
          ],
          "name": "stdout"
        }
      ]
    },
    {
      "cell_type": "code",
      "metadata": {
        "id": "7xRKje1mjudv",
        "colab_type": "code",
        "colab": {
          "base_uri": "https://localhost:8080/",
          "height": 50
        },
        "outputId": "a962d5e9-fbc7-4846-8cbf-93f0a6ff63cd"
      },
      "source": [
        "d_n = pd.read_csv('sample_data/mnist_test.csv',header=None)\n",
        "data_n = np.array(d_n)\n",
        "Y_n = data_n[:,0]\n",
        "X_n = data_n[:,1:]\n",
        "\n",
        "print(obj.test(X_n,Y_n))\n",
        "obj.accuracy()"
      ],
      "execution_count": 21,
      "outputs": [
        {
          "output_type": "stream",
          "text": [
            "[1 1 1 ... 1 1 1]\n",
            "11.35\n"
          ],
          "name": "stdout"
        }
      ]
    }
  ]
}