{
  "nbformat": 4,
  "nbformat_minor": 0,
  "metadata": {
    "colab": {
      "name": "Lin_Reg.ipynb",
      "provenance": [],
      "collapsed_sections": [],
      "include_colab_link": true
    },
    "kernelspec": {
      "name": "python3",
      "display_name": "Python 3"
    }
  },
  "cells": [
    {
      "cell_type": "markdown",
      "metadata": {
        "id": "view-in-github",
        "colab_type": "text"
      },
      "source": [
        "<a href=\"https://colab.research.google.com/github/Pawan-Kumar-Sahu/ML-Library-1/blob/master/Lin_Reg.ipynb\" target=\"_parent\"><img src=\"https://colab.research.google.com/assets/colab-badge.svg\" alt=\"Open In Colab\"/></a>"
      ]
    },
    {
      "cell_type": "code",
      "metadata": {
        "id": "By9BaaVIxrh6",
        "colab_type": "code",
        "colab": {}
      },
      "source": [
        "import numpy as np\n",
        "import pandas as pd\n",
        "import matplotlib.pyplot as plt\n",
        "import random\n",
        "%matplotlib inline"
      ],
      "execution_count": 0,
      "outputs": []
    },
    {
      "cell_type": "code",
      "metadata": {
        "id": "EhsnUkKArpN1",
        "colab_type": "code",
        "outputId": "8a788bbf-12a2-4dc7-c051-cae867050500",
        "colab": {
          "base_uri": "https://localhost:8080/",
          "height": 269
        }
      },
      "source": [
        "d= pd.read_csv('mnist_train_small.csv',header = None)\n",
        "data=np.array(d)\n",
        "print (data)\n",
        "Y = data[:,0]\n",
        "print (Y)\n",
        "X = data[:,1:]\n",
        "print (X)"
      ],
      "execution_count": 5,
      "outputs": [
        {
          "output_type": "stream",
          "text": [
            "[[6 0 0 ... 0 0 0]\n",
            " [5 0 0 ... 0 0 0]\n",
            " [7 0 0 ... 0 0 0]\n",
            " ...\n",
            " [2 0 0 ... 0 0 0]\n",
            " [9 0 0 ... 0 0 0]\n",
            " [5 0 0 ... 0 0 0]]\n",
            "[6 5 7 ... 2 9 5]\n",
            "[[0 0 0 ... 0 0 0]\n",
            " [0 0 0 ... 0 0 0]\n",
            " [0 0 0 ... 0 0 0]\n",
            " ...\n",
            " [0 0 0 ... 0 0 0]\n",
            " [0 0 0 ... 0 0 0]\n",
            " [0 0 0 ... 0 0 0]]\n"
          ],
          "name": "stdout"
        }
      ]
    },
    {
      "cell_type": "code",
      "metadata": {
        "id": "2lcW_Lj_r7tY",
        "colab_type": "code",
        "colab": {}
      },
      "source": [
        "class lin_reg():\n",
        "    \n",
        "    def train_test_split(self,dt,sp=0.6,randomize='False'):             # splitting function\n",
        "        dt=np.array(dt)\n",
        "        if randomize=='True':\n",
        "            dt=list(dt)\n",
        "            random.shuffle(dt)\n",
        "            dt=np.array(dt)\n",
        "        n=dt.shape[1]\n",
        "        m=dt.shape[0]\n",
        "        train_dt=dt[:int(sp*m),:]\n",
        "        test_dt=dt[int(sp*m):,:]\n",
        "        return train_dt,test_dt\n",
        "    \n",
        "    def hx_curve(self,show='False'):                                   # hypothesis VS Y graph\n",
        "        if show=='True':\n",
        "            plt.scatter(self.y,self.hx)\n",
        "            plt.xlabel(\"Values of Y values\")\n",
        "            plt.ylabel(\"Range of Prediction\")\n",
        "            plt.title(\" Graph for Hypothesis VS Y values\")\n",
        "            plt.show()\n",
        "    \n",
        "    def detr_thres(self,show='False'):                                 # Accuracy VS Threshold\n",
        "        if show=='True':\n",
        "            th=list(range(0,101))\n",
        "            th=np.array(th)\n",
        "            th=th/10\n",
        "            accu=[]\n",
        "            for i in th:\n",
        "                accu.append(self.score(i))\n",
        "            plt.plot(th,accu)\n",
        "            plt.xlabel(\"Increasing Threshold Value\" )\n",
        "            plt.ylabel(\"Accuracy of Prediction\")\n",
        "            plt.title(\"Curve to Determine Threshold\")\n",
        "            plt.show()\n",
        "\n",
        "    def score(self,t=4):                                              # function to get accuracy\n",
        "        self.p=self.y-self.hx                                         # for provided threshold \n",
        "        self.p[self.p<-t]=-50\n",
        "        self.p[self.p>t]=-50\n",
        "        return (100*((len(self.p)-np.count_nonzero(self.p==-50))/len(self.p)))\n",
        "    \n",
        "    def hypo(self):                                                   # function to calculate hypothesis\n",
        "        self.hx = []\n",
        "        self.hx = np.sum(self.theta[:-1]*self.x,axis=1)\n",
        "        self.hx = self.hx + self.theta[-1]\n",
        "    \n",
        "    def part_j(self):                                                 # function to calculate partial derivative terms \n",
        "        self.diff = self.hx - self.y\n",
        "        pj = self.x.T.dot(self.diff)\n",
        "        w = list(pj)\n",
        "        w.append(np.sum(self.diff))\n",
        "        pj = np.array(w)\n",
        "        return pj*(1/self.m)\n",
        "    \n",
        "    def cost(self):                                                   # function to calculate cost function\n",
        "        self.diff = self.hx - self.y\n",
        "        return ((1/(2*self.m))*np.sum(pow(self.diff,2)))\n",
        "    \n",
        "    def learn_curve(self,show='False'):                               # Error VS no. of iterations graph\n",
        "        if show=='True':\n",
        "            plt.plot(self.learn_x,self.learn_j)\n",
        "            plt.xlabel(\" no. of iterations\")\n",
        "            plt.ylabel(\" error \")\n",
        "            plt.title(\" LEARNING CURVE \")\n",
        "            plt.show() \n",
        "    \n",
        "    def pred_thres(self,ll=0.1,ul=0.9):                               # function to get an array of predicted values\n",
        "        predict=[]                                                    # for provided lower and upper limit\n",
        "        self.hypo()                                                   # and accuracy of your prediction as well\n",
        "        v1=self.hx-np.modf(self.hx)[1]\n",
        "        for i in range(self.m):\n",
        "            if 1-v1[i] <=ll:\n",
        "                predict.append(int(self.hx[i]+1))\n",
        "            elif v1[i] <ul:\n",
        "                predict.append(int(self.hx[i]))\n",
        "            else:\n",
        "                predict.append(-1)\n",
        "        predict=np.array(predict)\n",
        "        p=self.y-predict\n",
        "        ac=(np.count_nonzero(p==0)/self.m)*100\n",
        "        return np.array(predict),ac\n",
        "    \n",
        "    def learn_curve_mb(self,show='False'):                            # Error per batch graph when 'mini batch grad des' used    \n",
        "        if show=='True':\n",
        "            plt.plot(np.array(list(range(self.n_o_b+1)))[1:],np.array(self.j_p_b)[1:])\n",
        "            plt.xlabel(\" Batch numbers\")\n",
        "            plt.ylabel(\" error per batch \")\n",
        "            plt.title(\" LEARNING CURVE \")\n",
        "            plt.show()\n",
        "    \n",
        "    def train(self,x,y,theta=[],itr=1000,lr=0.0000001):               # function to train your model\n",
        "        self.x=x                                                      # if you want 'grad des' call this directly\n",
        "        self.y=y\n",
        "        self.itr=itr\n",
        "        self.lr=lr\n",
        "        self.n=x.shape[1]\n",
        "        self.m=x.shape[0]\n",
        "        self.theta=theta\n",
        "        if theta==[]:\n",
        "            self.theta=list(np.zeros(self.n+1))\n",
        "            self.n_o_b=0\n",
        "            self.j_p_b=[]\n",
        "            self.hypo()\n",
        "            self.j_p_b.append(self.cost())\n",
        "        self.n_o_b=self.n_o_b + 1\n",
        "        self.learn_j=[]\n",
        "        self.learn_x=[]\n",
        "        i=0\n",
        "        while i<self.itr:\n",
        "            self.hypo()\n",
        "            self.theta = self.theta - (self.lr*self.part_j())\n",
        "            self.learn_j.append(self.cost())\n",
        "            self.learn_x.append(i)\n",
        "            i = i+1\n",
        "        j = self.cost()\n",
        "        self.j_p_b.append(j)\n",
        "    \n",
        "    def test(self,xt,yt):                                             # function to test your model\n",
        "        self.x=xt\n",
        "        self.y=yt\n",
        "        self.m=self.x.shape[0]\n",
        "        self.hypo()\n",
        "        jt=self.cost()\n",
        "        return self.hx,jt\n",
        "    \n",
        "    def mini_batch_grad(self,x_all,y_all,batch_size=250,itr_b=1000,lr_b=0.00000001):       # use this for 'mini batch grad des'\n",
        "        n_loop=x_all.shape[0]/batch_size\n",
        "        if n_loop!=int(n_loop):\n",
        "            n_loop=int(n_loop)+1\n",
        "        for i in range(int(n_loop)):\n",
        "            if i==0:\n",
        "                self.train(x_all[:batch_size,:],y_all[:batch_size],itr=itr_b,lr=lr_b)\n",
        "            if i!=0 and i!=n_loop-1:\n",
        "                self.train(x_all[batch_size*i:batch_size*(i+1),:],y_all[batch_size*i:batch_size*(i+1)],self.theta,itr=itr_b,lr=lr_b)\n",
        "            if i==n_loop-1 and i!=0:\n",
        "                self.train(x_all[batch_size*i:,:],y_all[batch_size*i:],self.theta,itr=itr_b,lr=lr_b)\n",
        "                \n",
        "    \n",
        "obj=lin_reg()"
      ],
      "execution_count": 0,
      "outputs": []
    },
    {
      "cell_type": "code",
      "metadata": {
        "id": "kNafLtwLvT26",
        "colab_type": "code",
        "colab": {}
      },
      "source": [
        "train_data,test_data=obj.train_test_split(data,0.8,randomize='True')   # this function splits your dataset into two\n",
        "print(train_data,train_data.shape)                                     # you can specify ratio of split\n",
        "print(test_data,test_data.shape)                                       # and whether you want to randomize the order before split"
      ],
      "execution_count": 0,
      "outputs": []
    },
    {
      "cell_type": "code",
      "metadata": {
        "id": "9QoES1wGOjtP",
        "colab_type": "code",
        "colab": {}
      },
      "source": [
        "#obj.train(X,Y,itr=10000,lr=0.00000001)            # this is for batch grad descent"
      ],
      "execution_count": 0,
      "outputs": []
    },
    {
      "cell_type": "code",
      "metadata": {
        "id": "AGkSRJdvoEMD",
        "colab_type": "code",
        "colab": {}
      },
      "source": [
        "#obj.learn_curve(show='True')                      # this can be used when you use batch grad des \n",
        "                                                   # otherwise in case mini batch grad des use obj.learn_curve_mb(show='True)\n",
        "                                                   # if you use this for mini batch grad des it will work\n",
        "                                                   # but will show graph of \"error VS no. of iterations\" for last batch\n",
        "                                                   # use   obj.learn_curve_mb(show='True)  function to get \"error per batch\" graph"
      ],
      "execution_count": 0,
      "outputs": []
    },
    {
      "cell_type": "code",
      "metadata": {
        "id": "Ns_qWinNjRxJ",
        "colab_type": "code",
        "outputId": "f74efce6-b782-47c3-82b5-00342bf14fec",
        "colab": {
          "base_uri": "https://localhost:8080/",
          "height": 54
        }
      },
      "source": [
        "obj.mini_batch_grad(X,Y,itr_b=1000)     # this function is designed for mini batch grad des \n",
        "                                        # you can give batch size, iteration, learning rate as additional input "
      ],
      "execution_count": 26,
      "outputs": [
        {
          "output_type": "stream",
          "text": [
            "/usr/local/lib/python3.6/dist-packages/ipykernel_launcher.py:97: DeprecationWarning: elementwise comparison failed; this will raise an error in the future.\n"
          ],
          "name": "stderr"
        }
      ]
    },
    {
      "cell_type": "code",
      "metadata": {
        "id": "zbkw43bIjos9",
        "colab_type": "code",
        "outputId": "6443569c-fb27-45c7-cb34-36e1bafe0061",
        "colab": {
          "base_uri": "https://localhost:8080/",
          "height": 295
        }
      },
      "source": [
        "obj.learn_curve_mb(show='True')         # this is the learning curve graph if u use mini batch grad des"
      ],
      "execution_count": 27,
      "outputs": [
        {
          "output_type": "display_data",
          "data": {
            "image/png": "[encoded data removed]",
            "text/plain": [
              "<Figure size 432x288 with 1 Axes>"
            ]
          },
          "metadata": {
            "tags": []
          }
        }
      ]
    },
    {
      "cell_type": "code",
      "metadata": {
        "id": "Xwd_iF3hjSww",
        "colab_type": "code",
        "colab": {}
      },
      "source": [
        "d_n = pd.read_csv('mnist_test.csv',header = None)\n",
        "data_n = np.array(d_n)\n",
        "Y_n = data_n[:,0]\n",
        "X_n = data_n[:,1:]"
      ],
      "execution_count": 0,
      "outputs": []
    },
    {
      "cell_type": "code",
      "metadata": {
        "id": "j-4LmbStjbTB",
        "colab_type": "code",
        "outputId": "20f28bbc-4787-4f54-8887-8c62a267ceea",
        "colab": {
          "base_uri": "https://localhost:8080/",
          "height": 50
        }
      },
      "source": [
        "hypothesis , cost_val = obj.test(X_n,Y_n)\n",
        "print(hypothesis)                                      # this is just the hypothesis array not prediction array,\n",
        "                                                       # array of predicted value is later shown\n",
        "print(cost_val)                                        # this gives the value of cost function over test data"
      ],
      "execution_count": 29,
      "outputs": [
        {
          "output_type": "stream",
          "text": [
            "[5.38436486 2.15613777 1.10780547 ... 9.25955209 5.3860454  6.12847085]\n",
            "1.878495049854875\n"
          ],
          "name": "stdout"
        }
      ]
    },
    {
      "cell_type": "code",
      "metadata": {
        "id": "gPS87bAHjecs",
        "colab_type": "code",
        "outputId": "31635504-2a39-4a9a-f113-718a6dfc678f",
        "colab": {
          "base_uri": "https://localhost:8080/",
          "height": 295
        }
      },
      "source": [
        "obj.hx_curve(show='True')                              # this curve is made to visualize the performance of \n",
        "                                                       # your linear model over classification problem"
      ],
      "execution_count": 30,
      "outputs": [
        {
          "output_type": "display_data",
          "data": {
            "image/png": "[encoded data removed]",
            "text/plain": [
              "<Figure size 432x288 with 1 Axes>"
            ]
          },
          "metadata": {
            "tags": []
          }
        }
      ]
    },
    {
      "cell_type": "code",
      "metadata": {
        "id": "N2m9TR1cjhGz",
        "colab_type": "code",
        "outputId": "3df142fc-6dab-48ea-de7b-9a52195e9dde",
        "colab": {
          "base_uri": "https://localhost:8080/",
          "height": 295
        }
      },
      "source": [
        "obj.detr_thres(show='True')                             # this curve is for checking accuracy for \n",
        "                                                        # different values of threshold"
      ],
      "execution_count": 31,
      "outputs": [
        {
          "output_type": "display_data",
          "data": {
            "image/png": "[encoded data removed]",
            "text/plain": [
              "<Figure size 432x288 with 1 Axes>"
            ]
          },
          "metadata": {
            "tags": []
          }
        }
      ]
    },
    {
      "cell_type": "code",
      "metadata": {
        "id": "Axx5m1UGjpnc",
        "colab_type": "code",
        "outputId": "1d98102d-b24d-4429-80c2-535d1e800e2d",
        "colab": {
          "base_uri": "https://localhost:8080/",
          "height": 34
        }
      },
      "source": [
        "print(obj.score(t=5))                                  # this function gives you the accuracy of your model\n",
        "                                                       # for specified threshold value when run over classification."
      ],
      "execution_count": 32,
      "outputs": [
        {
          "output_type": "stream",
          "text": [
            "98.53\n"
          ],
          "name": "stdout"
        }
      ]
    },
    {
      "cell_type": "code",
      "metadata": {
        "id": "hKA6q8krjwA5",
        "colab_type": "code",
        "outputId": "cdc551ae-314e-429a-d429-d60a642ee45d",
        "colab": {
          "base_uri": "https://localhost:8080/",
          "height": 67
        }
      },
      "source": [
        "prediction , accuracy = obj.pred_thres(0.01,0.99)      # this function is used if you run over classification problem\n",
        "print(Y_n)                                             # this function returns you an array of predicted values and accuracy got \n",
        "print(prediction)                                      # you can input your own lower limit and upper limit as threshold\n",
        "print(accuracy)"
      ],
      "execution_count": 33,
      "outputs": [
        {
          "output_type": "stream",
          "text": [
            "[7 2 1 ... 4 5 6]\n",
            "[5 2 1 ... 9 5 6]\n",
            "25.230000000000004\n"
          ],
          "name": "stdout"
        }
      ]
    }
  ]
}