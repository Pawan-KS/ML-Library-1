{
  "nbformat": 4,
  "nbformat_minor": 0,
  "metadata": {
    "colab": {
      "name": "Lin_Reg.ipynb",
      "provenance": [],
      "collapsed_sections": [],
      "include_colab_link": true
    },
    "kernelspec": {
      "name": "python3",
      "display_name": "Python 3"
    }
  },
  "cells": [
    {
      "cell_type": "markdown",
      "metadata": {
        "id": "view-in-github",
        "colab_type": "text"
      },
      "source": [
        "<a href=\"https://colab.research.google.com/github/Pawan-Kumar-Sahu/ML-Library-1/blob/master/Lin_Reg.ipynb\" target=\"_parent\"><img src=\"https://colab.research.google.com/assets/colab-badge.svg\" alt=\"Open In Colab\"/></a>"
      ]
    },
    {
      "cell_type": "code",
      "metadata": {
        "id": "By9BaaVIxrh6",
        "colab_type": "code",
        "colab": {}
      },
      "source": [
        "import numpy as np\n",
        "import pandas as pd\n",
        "import matplotlib.pyplot as plt\n",
        "import random\n",
        "%matplotlib inline"
      ],
      "execution_count": 0,
      "outputs": []
    },
    {
      "cell_type": "code",
      "metadata": {
        "id": "EhsnUkKArpN1",
        "colab_type": "code",
        "colab": {
          "base_uri": "https://localhost:8080/",
          "height": 269
        },
        "outputId": "6f1f30e3-3783-4841-f867-22608cf37985"
      },
      "source": [
        "d= pd.read_csv('mnist_train_small.csv',header = None)\n",
        "data=np.array(d)\n",
        "print (data)\n",
        "Y = data[:,0]\n",
        "print (Y)\n",
        "X = data[:,1:]\n",
        "print (X)"
      ],
      "execution_count": 2,
      "outputs": [
        {
          "output_type": "stream",
          "text": [
            "[[6 0 0 ... 0 0 0]\n",
            " [5 0 0 ... 0 0 0]\n",
            " [7 0 0 ... 0 0 0]\n",
            " ...\n",
            " [2 0 0 ... 0 0 0]\n",
            " [9 0 0 ... 0 0 0]\n",
            " [5 0 0 ... 0 0 0]]\n",
            "[6 5 7 ... 2 9 5]\n",
            "[[0 0 0 ... 0 0 0]\n",
            " [0 0 0 ... 0 0 0]\n",
            " [0 0 0 ... 0 0 0]\n",
            " ...\n",
            " [0 0 0 ... 0 0 0]\n",
            " [0 0 0 ... 0 0 0]\n",
            " [0 0 0 ... 0 0 0]]\n"
          ],
          "name": "stdout"
        }
      ]
    },
    {
      "cell_type": "code",
      "metadata": {
        "id": "2lcW_Lj_r7tY",
        "colab_type": "code",
        "colab": {}
      },
      "source": [
        "class lin_reg():\n",
        "    \n",
        "    def train_test_split(self,dt,sp=0.6,randomize='False'):\n",
        "        dt=np.array(dt)\n",
        "        if randomize=='True':\n",
        "            dt=list(dt)\n",
        "            random.shuffle(dt)\n",
        "            dt=np.array(dt)\n",
        "        n=dt.shape[1]\n",
        "        m=dt.shape[0]\n",
        "        train_dt=dt[:int(sp*m),:]\n",
        "        test_dt=dt[int(sp*m):,:]\n",
        "        return train_dt,test_dt\n",
        "    \n",
        "    def hx_curve(self,show='False'):\n",
        "        if show=='True':\n",
        "            plt.scatter(self.y,self.hx)\n",
        "            plt.xlabel(\"Values of Y values\")\n",
        "            plt.ylabel(\"Range of Prediction\")\n",
        "            plt.title(\" Graph for Hypothesis VS Y values\")\n",
        "            plt.show()\n",
        "    \n",
        "    def detr_thres(self,show='False'):\n",
        "        if show=='True':\n",
        "            th=list(range(0,101))\n",
        "            th=np.array(th)\n",
        "            th=th/10\n",
        "            accu=[]\n",
        "            for i in th:\n",
        "                accu.append(self.score(i))\n",
        "            plt.plot(th,accu)\n",
        "            plt.xlabel(\"Increasing Threshold Value\" )\n",
        "            plt.ylabel(\"Accuracy of Prediction\")\n",
        "            plt.title(\"Curve to Determine Threshold\")\n",
        "            plt.show()\n",
        "\n",
        "    def score(self,t=4):\n",
        "        self.p=self.y-self.hx\n",
        "        self.p[self.p<-t]=-50\n",
        "        self.p[self.p>t]=-50\n",
        "        return (100*((len(self.p)-np.count_nonzero(self.p==-50))/len(self.p)))\n",
        "    \n",
        "    def hypo(self):\n",
        "        self.hx = []\n",
        "        self.hx = np.sum(self.theta[:-1]*self.x,axis=1)\n",
        "        self.hx = self.hx + self.theta[-1]\n",
        "    \n",
        "    def part_j(self):\n",
        "        self.diff = self.hx - self.y\n",
        "        pj = self.x.T.dot(self.diff)\n",
        "        w = list(pj)\n",
        "        w.append(np.sum(self.diff))\n",
        "        pj = np.array(w)\n",
        "        return pj*(1/self.m)\n",
        "    \n",
        "    def cost(self):\n",
        "        self.diff = self.hx - self.y\n",
        "        return ((1/(2*self.m))*np.sum(pow(self.diff,2)))\n",
        "    \n",
        "    def improve(self):\n",
        "        p_j=self.part_j()\n",
        "        temp = self.theta - (self.lr*p_j)\n",
        "        self.theta = temp\n",
        "    \n",
        "    def learn_curve(self,show='False'):\n",
        "        if show=='True':\n",
        "            plt.plot(self.learn_x,self.learn_j)\n",
        "            plt.xlabel(\" no. of iterations\")\n",
        "            plt.ylabel(\" error \")\n",
        "            plt.title(\" LEARNING CURVE \")\n",
        "            plt.show() \n",
        "    \n",
        "    def pred_thres(self,ll=0.1,ul=0.9):\n",
        "        predict=[]\n",
        "        self.hypo()\n",
        "        v1=self.hx-np.modf(self.hx)[1]\n",
        "        for i in range(self.m):\n",
        "            if 1-v1[i] <=ll:\n",
        "                predict.append(int(self.hx[i]+1))\n",
        "            elif v1[i] <ul:\n",
        "                predict.append(int(self.hx[i]))\n",
        "            else:\n",
        "                predict.append(-1)\n",
        "        predict=np.array(predict)\n",
        "        p=self.y-predict\n",
        "        ac=(np.count_nonzero(p==0)/self.m)*100\n",
        "        return np.array(predict),ac\n",
        "    \n",
        "    def train(self,x,y,theta=[],itr=1000,lr=0.0000001):\n",
        "        self.x=x\n",
        "        self.y=y\n",
        "        self.itr=itr\n",
        "        self.lr=lr\n",
        "        self.n=x.shape[1]\n",
        "        self.m=x.shape[0]\n",
        "        self.theta=theta\n",
        "        if theta==[]:\n",
        "            self.theta=list(np.zeros(self.n+1))\n",
        "            self.n_o_b=0\n",
        "            self.j_p_b=[]\n",
        "            self.hypo()\n",
        "            self.j_p_b.append(self.cost())\n",
        "        self.n_o_b=self.n_o_b + 1\n",
        "        self.learn_j=[]\n",
        "        self.learn_x=[]\n",
        "        i=0\n",
        "        while i<self.itr:\n",
        "            self.hypo()\n",
        "            self.improve()\n",
        "            self.learn_j.append(self.cost())\n",
        "            self.learn_x.append(i)\n",
        "            i = i+1\n",
        "        j = self.cost()\n",
        "        self.j_p_b.append(j)\n",
        "    \n",
        "    def learn_curve_mb(self,show='False'):\n",
        "        if show=='True':\n",
        "            plt.plot(np.array(list(range(self.n_o_b+1)))[1:],np.array(self.j_p_b)[1:])\n",
        "            plt.xlabel(\" Batch numbers\")\n",
        "            plt.ylabel(\" error per batch \")\n",
        "            plt.title(\" LEARNING CURVE \")\n",
        "            plt.show()\n",
        "    \n",
        "    def test(self,xt,yt):\n",
        "        self.x=xt\n",
        "        self.y=yt\n",
        "        self.m=self.x.shape[0]\n",
        "        self.hypo()\n",
        "        jt=self.cost()\n",
        "        return self.hx,jt\n",
        "    \n",
        "    def mini_batch_grad(self,x_all,y_all,batch_size=250,itr_b=1000,lr_b=0.00000001):\n",
        "        n_loop=x_all.shape[0]/batch_size\n",
        "        if n_loop!=int(n_loop):\n",
        "            n_loop=int(n_loop)+1\n",
        "        for i in range(int(n_loop)):\n",
        "            if i==0:\n",
        "                self.train(x_all[:batch_size,:],y_all[:batch_size],itr=itr_b,lr=lr_b)\n",
        "            if i!=0 and i!=n_loop-1:\n",
        "                self.train(x_all[batch_size*i:batch_size*(i+1),:],y_all[batch_size*i:batch_size*(i+1)],self.theta,itr=itr_b,lr=lr_b)\n",
        "            if i==n_loop-1 and i!=0:\n",
        "                self.train(x_all[batch_size*i:,:],y_all[batch_size*i:],self.theta,itr=itr_b,lr=lr_b)\n",
        "                \n",
        "    \n",
        "obj=lin_reg()"
      ],
      "execution_count": 0,
      "outputs": []
    },
    {
      "cell_type": "code",
      "metadata": {
        "id": "kNafLtwLvT26",
        "colab_type": "code",
        "colab": {}
      },
      "source": [
        "train_data,test_data=obj.train_test_split(data,0.8,randomize='True')\n",
        "print(train_data,train_data.shape)\n",
        "print(test_data,test_data.shape)"
      ],
      "execution_count": 0,
      "outputs": []
    },
    {
      "cell_type": "code",
      "metadata": {
        "id": "9QoES1wGOjtP",
        "colab_type": "code",
        "colab": {}
      },
      "source": [
        "#obj.train(X,Y,itr=10000,lr=0.00000001)"
      ],
      "execution_count": 0,
      "outputs": []
    },
    {
      "cell_type": "code",
      "metadata": {
        "id": "AGkSRJdvoEMD",
        "colab_type": "code",
        "colab": {}
      },
      "source": [
        "#obj.learn_curve(show='True')"
      ],
      "execution_count": 0,
      "outputs": []
    },
    {
      "cell_type": "code",
      "metadata": {
        "id": "Ns_qWinNjRxJ",
        "colab_type": "code",
        "colab": {
          "base_uri": "https://localhost:8080/",
          "height": 54
        },
        "outputId": "417228f9-6fc8-44bd-c896-2da860903827"
      },
      "source": [
        "obj.mini_batch_grad(X,Y,itr_b=10000)"
      ],
      "execution_count": 49,
      "outputs": [
        {
          "output_type": "stream",
          "text": [
            "/usr/local/lib/python3.6/dist-packages/ipykernel_launcher.py:97: DeprecationWarning: elementwise comparison failed; this will raise an error in the future.\n"
          ],
          "name": "stderr"
        }
      ]
    },
    {
      "cell_type": "code",
      "metadata": {
        "id": "Xwd_iF3hjSww",
        "colab_type": "code",
        "colab": {}
      },
      "source": [
        "d_n = pd.read_csv('mnist_test.csv',header = None)\n",
        "data_n = np.array(d_n)\n",
        "Y_n = data_n[:,0]\n",
        "X_n = data_n[:,1:]"
      ],
      "execution_count": 0,
      "outputs": []
    },
    {
      "cell_type": "code",
      "metadata": {
        "id": "j-4LmbStjbTB",
        "colab_type": "code",
        "colab": {}
      },
      "source": [
        "hypothesis , cost_val = obj.test(X_n,Y_n)\n",
        "print(hypothesis)\n",
        "print(cost_val)"
      ],
      "execution_count": 0,
      "outputs": []
    },
    {
      "cell_type": "code",
      "metadata": {
        "id": "gPS87bAHjecs",
        "colab_type": "code",
        "colab": {}
      },
      "source": [
        "obj.hx_curve(show='True')"
      ],
      "execution_count": 0,
      "outputs": []
    },
    {
      "cell_type": "code",
      "metadata": {
        "id": "N2m9TR1cjhGz",
        "colab_type": "code",
        "colab": {}
      },
      "source": [
        "obj.detr_thres(show='True')"
      ],
      "execution_count": 0,
      "outputs": []
    },
    {
      "cell_type": "code",
      "metadata": {
        "id": "zbkw43bIjos9",
        "colab_type": "code",
        "colab": {
          "base_uri": "https://localhost:8080/",
          "height": 295
        },
        "outputId": "043d7962-a1b9-41e0-83ff-b3687534ae59"
      },
      "source": [
        "obj.learn_curve_mb(show='True')"
      ],
      "execution_count": 45,
      "outputs": [
        {
          "output_type": "display_data",
          "data": {
            "image/png": "[encoded data removed]",
            "text/plain": [
              "<Figure size 432x288 with 1 Axes>"
            ]
          },
          "metadata": {
            "tags": []
          }
        }
      ]
    },
    {
      "cell_type": "code",
      "metadata": {
        "id": "Axx5m1UGjpnc",
        "colab_type": "code",
        "colab": {
          "base_uri": "https://localhost:8080/",
          "height": 34
        },
        "outputId": "e31a6339-2e6b-4075-a1a5-78341f2e7199"
      },
      "source": [
        "print(obj.score(t=1))"
      ],
      "execution_count": 35,
      "outputs": [
        {
          "output_type": "stream",
          "text": [
            "40.129999999999995\n"
          ],
          "name": "stdout"
        }
      ]
    },
    {
      "cell_type": "code",
      "metadata": {
        "id": "hKA6q8krjwA5",
        "colab_type": "code",
        "colab": {
          "base_uri": "https://localhost:8080/",
          "height": 67
        },
        "outputId": "d9ad6792-9645-4d5e-e9f1-4cd78eb66f82"
      },
      "source": [
        "prediction , accuracy = obj.pred_thres(0.01,0.99)\n",
        "print(Y_n)\n",
        "print(prediction)\n",
        "print(accuracy)"
      ],
      "execution_count": 36,
      "outputs": [
        {
          "output_type": "stream",
          "text": [
            "[7 2 1 ... 4 5 6]\n",
            "[5 1 0 ... 9 4 4]\n",
            "23.53\n"
          ],
          "name": "stdout"
        }
      ]
    }
  ]
}