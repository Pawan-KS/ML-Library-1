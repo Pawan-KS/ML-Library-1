{
  "nbformat": 4,
  "nbformat_minor": 0,
  "metadata": {
    "colab": {
      "name": "KNN.ipynb",
      "provenance": [],
      "collapsed_sections": [],
      "include_colab_link": true
    },
    "kernelspec": {
      "name": "python3",
      "display_name": "Python 3"
    }
  },
  "cells": [
    {
      "cell_type": "markdown",
      "metadata": {
        "id": "view-in-github",
        "colab_type": "text"
      },
      "source": [
        "<a href=\"https://colab.research.google.com/github/Pawan-Kumar-Sahu/ML-Library-1/blob/master/KNN.ipynb\" target=\"_parent\"><img src=\"https://colab.research.google.com/assets/colab-badge.svg\" alt=\"Open In Colab\"/></a>"
      ]
    },
    {
      "cell_type": "code",
      "metadata": {
        "id": "r9k_6bfrHuyM",
        "colab_type": "code",
        "colab": {}
      },
      "source": [
        "import numpy as np\n",
        "import pandas as pd\n",
        "import matplotlib.pyplot as plt\n",
        "import random\n",
        "from scipy import stats\n",
        "import math\n",
        "%matplotlib inline"
      ],
      "execution_count": 0,
      "outputs": []
    },
    {
      "cell_type": "code",
      "metadata": {
        "id": "0JYzBBABH4TV",
        "colab_type": "code",
        "outputId": "1dca34e1-7f36-425e-8184-8f9d62720011",
        "colab": {
          "base_uri": "https://localhost:8080/",
          "height": 269
        }
      },
      "source": [
        "d= pd.read_csv('mnist_train_small.csv',header=None)\n",
        "data=np.array(d)\n",
        "print (data)\n",
        "Y = data[:,0]\n",
        "print (Y)\n",
        "X = data[:,1:]\n",
        "print (X)"
      ],
      "execution_count": 0,
      "outputs": [
        {
          "output_type": "stream",
          "text": [
            "[[6 0 0 ... 0 0 0]\n",
            " [5 0 0 ... 0 0 0]\n",
            " [7 0 0 ... 0 0 0]\n",
            " ...\n",
            " [2 0 0 ... 0 0 0]\n",
            " [9 0 0 ... 0 0 0]\n",
            " [5 0 0 ... 0 0 0]]\n",
            "[6 5 7 ... 2 9 5]\n",
            "[[0 0 0 ... 0 0 0]\n",
            " [0 0 0 ... 0 0 0]\n",
            " [0 0 0 ... 0 0 0]\n",
            " ...\n",
            " [0 0 0 ... 0 0 0]\n",
            " [0 0 0 ... 0 0 0]\n",
            " [0 0 0 ... 0 0 0]]\n"
          ],
          "name": "stdout"
        }
      ]
    },
    {
      "cell_type": "code",
      "metadata": {
        "id": "wQZF6Ob5Rclg",
        "colab_type": "code",
        "colab": {}
      },
      "source": [
        "class knn():\n",
        "  \n",
        "  def prediction(self,xt_index):\n",
        "    dist=np.sqrt(np.sum(np.square(self.x-self.xt[xt_index]),axis=1))\n",
        "    a=np.array([dist,self.y]).T\n",
        "    sort_a=[]\n",
        "    for j,i in enumerate(np.argsort(a[:,0])):\n",
        "        sort_a.append(a[i])\n",
        "        if j==self.k-1:\n",
        "            break\n",
        "    if self.typ=='reg':\n",
        "        p=(np.mean(np.array(sort_a)[:,1]))\n",
        "    if self.typ=='cla':\n",
        "        p=(stats.mode(np.array(sort_a)[:,1])[0][0])\n",
        "    return p\n",
        "  \n",
        "  def train(self,x,y):\n",
        "    self.x=x\n",
        "    self.y=y\n",
        "    self.m=self.x.shape[0]\n",
        "    self.n=self.x.shape[1]\n",
        "\n",
        "  def test(self,xt,yt,k,typ):\n",
        "    self.xt=xt\n",
        "    self.yt=yt\n",
        "    self.k=k\n",
        "    self.typ=typ\n",
        "    self.mt=self.xt.shape[0]\n",
        "    self.nt=self.xt.shape[1]\n",
        "    self.pred=[]\n",
        "    for i in range(self.mt):\n",
        "      self.pred.append(self.prediction(i))\n",
        "    return self.pred\n",
        "    \n",
        "  def score(self):\n",
        "    v=self.yt-self.pred\n",
        "    accu=np.count_nonzero(v==0)\n",
        "    print(\"accuracy is \",(accu/len(v))*100,\"%\")\n",
        "    \n",
        "  def graph(self):\n",
        "    i=1\n",
        "    x_axis=[]\n",
        "    y_axis=[]\n",
        "    while i<22:\n",
        "        u=self.test(self.xt[:100,:],self.yt[:100],i,self.typ)\n",
        "        v=self.yt[:100]-self.pred\n",
        "        accu=(np.count_nonzero(v==0)/len(v))*100\n",
        "        x_axis.append(i)\n",
        "        y_axis.append(accu)\n",
        "        i=i+2\n",
        "    plt.plot(x_axis,y_axis)\n",
        "    plt.xlabel(\"K values\")\n",
        "    plt.ylabel(\"Accuracy\")\n",
        "    plt.title(\"Varying Accuracy wrt K\")\n",
        "    plt.show()\n",
        "\n",
        "\n",
        "obj=knn()\n",
        "obj.train(X,Y)\n"
      ],
      "execution_count": 0,
      "outputs": []
    },
    {
      "cell_type": "code",
      "metadata": {
        "id": "iuSarrr4k57M",
        "colab_type": "code",
        "outputId": "2a7151f0-caf7-4218-9f69-2447c8461c15",
        "colab": {
          "base_uri": "https://localhost:8080/",
          "height": 356
        }
      },
      "source": [
        "d_new= pd.read_csv('mnist_test.csv',header=None)\n",
        "data_new=np.array(d_new)\n",
        "print (data_new)\n",
        "Y_new = data_new[:100,0]\n",
        "print (Y_new)\n",
        "X_new = data_new[:100,1:]\n",
        "print (X_new)\n",
        "prediction= obj.test(X_new,Y_new,5,typ='cla')\n",
        "print(prediction)\n",
        "obj.score()\n"
      ],
      "execution_count": 0,
      "outputs": [
        {
          "output_type": "stream",
          "text": [
            "[[7 0 0 ... 0 0 0]\n",
            " [2 0 0 ... 0 0 0]\n",
            " [1 0 0 ... 0 0 0]\n",
            " ...\n",
            " [4 0 0 ... 0 0 0]\n",
            " [5 0 0 ... 0 0 0]\n",
            " [6 0 0 ... 0 0 0]]\n",
            "[7 2 1 0 4 1 4 9 5 9 0 6 9 0 1 5 9 7 3 4 9 6 6 5 4 0 7 4 0 1 3 1 3 4 7 2 7\n",
            " 1 2 1 1 7 4 2 3 5 1 2 4 4 6 3 5 5 6 0 4 1 9 5 7 8 9 3 7 4 6 4 3 0 7 0 2 9\n",
            " 1 7 3 2 9 7 7 6 2 7 8 4 7 3 6 1 3 6 9 3 1 4 1 7 6 9]\n",
            "[[0 0 0 ... 0 0 0]\n",
            " [0 0 0 ... 0 0 0]\n",
            " [0 0 0 ... 0 0 0]\n",
            " ...\n",
            " [0 0 0 ... 0 0 0]\n",
            " [0 0 0 ... 0 0 0]\n",
            " [0 0 0 ... 0 0 0]]\n",
            "[7.0, 2.0, 1.0, 0.0, 4.0, 1.0, 4.0, 9.0, 5.0, 9.0, 0.0, 6.0, 9.0, 0.0, 1.0, 5.0, 9.0, 7.0, 3.0, 4.0, 9.0, 6.0, 6.0, 5.0, 4.0, 0.0, 7.0, 4.0, 0.0, 1.0, 3.0, 1.0, 3.0, 4.0, 7.0, 2.0, 7.0, 1.0, 2.0, 1.0, 1.0, 7.0, 4.0, 1.0, 3.0, 5.0, 1.0, 2.0, 4.0, 4.0, 6.0, 3.0, 5.0, 5.0, 6.0, 0.0, 4.0, 1.0, 9.0, 5.0, 7.0, 8.0, 9.0, 3.0, 7.0, 4.0, 6.0, 4.0, 3.0, 0.0, 7.0, 0.0, 2.0, 7.0, 1.0, 7.0, 3.0, 7.0, 9.0, 7.0, 7.0, 6.0, 2.0, 7.0, 8.0, 4.0, 7.0, 3.0, 6.0, 1.0, 3.0, 6.0, 4.0, 3.0, 1.0, 4.0, 1.0, 7.0, 6.0, 9.0]\n",
            "accuracy is  96.0 %\n"
          ],
          "name": "stdout"
        }
      ]
    },
    {
      "cell_type": "code",
      "metadata": {
        "id": "SdD3zHFwn9rV",
        "colab_type": "code",
        "outputId": "81fb1f02-24af-455b-cff2-f0dac3bf5625",
        "colab": {
          "base_uri": "https://localhost:8080/",
          "height": 295
        }
      },
      "source": [
        "obj.graph() "
      ],
      "execution_count": 0,
      "outputs": [
        {
          "output_type": "display_data",
          "data": {
            "image/png": "[encoded data removed]",
            "text/plain": [
              "<Figure size 432x288 with 1 Axes>"
            ]
          },
          "metadata": {
            "tags": []
          }
        }
      ]
    }
  ]
}