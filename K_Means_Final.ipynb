{
  "nbformat": 4,
  "nbformat_minor": 0,
  "metadata": {
    "colab": {
      "name": "K Means Final.ipynb",
      "provenance": [],
      "collapsed_sections": [],
      "authorship_tag": "ABX9TyPRyZSAdrpdTMkiPlpech9z",
      "include_colab_link": true
    },
    "kernelspec": {
      "name": "python3",
      "display_name": "Python 3"
    }
  },
  "cells": [
    {
      "cell_type": "markdown",
      "metadata": {
        "id": "view-in-github",
        "colab_type": "text"
      },
      "source": [
        "<a href=\"https://colab.research.google.com/github/Pawan-KS/ML-Library-1/blob/master/K_Means_Final.ipynb\" target=\"_parent\"><img src=\"https://colab.research.google.com/assets/colab-badge.svg\" alt=\"Open In Colab\"/></a>"
      ]
    },
    {
      "cell_type": "code",
      "metadata": {
        "id": "Nt6DPWfk5wTT",
        "colab_type": "code",
        "colab": {}
      },
      "source": [
        "import numpy as np\n",
        "import pandas as pd\n",
        "import matplotlib.pyplot as plt\n",
        "import random\n",
        "import math\n",
        "%matplotlib inline"
      ],
      "execution_count": 0,
      "outputs": []
    },
    {
      "cell_type": "code",
      "metadata": {
        "id": "f_FsvM4r6AMH",
        "colab_type": "code",
        "colab": {}
      },
      "source": [
        "from k_clustering import k_means"
      ],
      "execution_count": 0,
      "outputs": []
    },
    {
      "cell_type": "code",
      "metadata": {
        "id": "y9qDIPey6QUo",
        "colab_type": "code",
        "colab": {
          "base_uri": "https://localhost:8080/",
          "height": 269
        },
        "outputId": "a503bd0f-f990-417a-e9c7-0d12e3402cf0"
      },
      "source": [
        "d= pd.read_csv('sample_data/mnist_train_small.csv',header=None)\n",
        "data=np.array(d)\n",
        "print (data)\n",
        "Y = data[:,0]\n",
        "print (Y)\n",
        "X = data[:,1:]\n",
        "print (X)"
      ],
      "execution_count": 3,
      "outputs": [
        {
          "output_type": "stream",
          "text": [
            "[[6 0 0 ... 0 0 0]\n",
            " [5 0 0 ... 0 0 0]\n",
            " [7 0 0 ... 0 0 0]\n",
            " ...\n",
            " [2 0 0 ... 0 0 0]\n",
            " [9 0 0 ... 0 0 0]\n",
            " [5 0 0 ... 0 0 0]]\n",
            "[6 5 7 ... 2 9 5]\n",
            "[[0 0 0 ... 0 0 0]\n",
            " [0 0 0 ... 0 0 0]\n",
            " [0 0 0 ... 0 0 0]\n",
            " ...\n",
            " [0 0 0 ... 0 0 0]\n",
            " [0 0 0 ... 0 0 0]\n",
            " [0 0 0 ... 0 0 0]]\n"
          ],
          "name": "stdout"
        }
      ]
    },
    {
      "cell_type": "code",
      "metadata": {
        "id": "kH9WFXWf6RJa",
        "colab_type": "code",
        "colab": {}
      },
      "source": [
        "obj=k_means()     # creating object"
      ],
      "execution_count": 0,
      "outputs": []
    },
    {
      "cell_type": "code",
      "metadata": {
        "id": "3D9MOH6X6cXl",
        "colab_type": "code",
        "colab": {}
      },
      "source": [
        "obj.train(X[:100,:],Y[:100],100,10)           # training"
      ],
      "execution_count": 0,
      "outputs": []
    },
    {
      "cell_type": "code",
      "metadata": {
        "id": "ldvFCl7d6kme",
        "colab_type": "code",
        "colab": {
          "base_uri": "https://localhost:8080/",
          "height": 34
        },
        "outputId": "c7a4f4d0-4de5-4002-c131-20680543807d"
      },
      "source": [
        "d_n = pd.read_csv('sample_data/mnist_test.csv',header=None)   # testing\n",
        "data_n = np.array(d_n)\n",
        "Y_n = data_n[:,0]\n",
        "X_n = data_n[:,1:]\n",
        "\n",
        "pred = obj.test(X_n[:100,:],Y_n[:100])\n",
        "obj.accuracy()"
      ],
      "execution_count": 8,
      "outputs": [
        {
          "output_type": "stream",
          "text": [
            "15.0\n"
          ],
          "name": "stdout"
        }
      ]
    }
  ]
}